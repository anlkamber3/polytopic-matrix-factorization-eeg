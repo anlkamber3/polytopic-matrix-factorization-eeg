{
 "cells": [
  {
   "cell_type": "markdown",
   "id": "e19719c1",
   "metadata": {},
   "source": [
    "# Blind Source Separation of EEG Signals through PMF\n"
   ]
  },
  {
   "cell_type": "code",
   "execution_count": null,
   "id": "abc7f110",
   "metadata": {},
   "outputs": [],
   "source": [
    "import numpy as np\n",
    "import mne\n",
    "mne.set_config('MNE_BROWSER_BACKEND', 'matplotlib')\n",
    "import matplotlib.pyplot as plt\n",
    "import warnings\n",
    "warnings.filterwarnings(\"ignore\")\n",
    "\n",
    "from pmf import *\n",
    "from utils import * "
   ]
  },
  {
   "cell_type": "markdown",
   "id": "f49af414",
   "metadata": {},
   "source": [
    "# EEG Import"
   ]
  },
  {
   "cell_type": "code",
   "execution_count": null,
   "id": "c256263b",
   "metadata": {},
   "outputs": [],
   "source": [
    "raw = mne.io.read_raw_eeglab(input_fname = \"data.set\")\n",
    "raw.info"
   ]
  },
  {
   "cell_type": "code",
   "execution_count": null,
   "id": "f69f1493",
   "metadata": {},
   "outputs": [],
   "source": [
    "raw.plot(n_channels=len(raw));"
   ]
  },
  {
   "cell_type": "markdown",
   "id": "f49af414",
   "metadata": {},
   "source": [
    "# X = WZ\n",
    "\n",
    "X is regarded as mixtures, which is an M by N matrix.\n",
    "\n",
    "W represents a linear mapping, which is full column rank M by r matrix. \n",
    "\n",
    "Z represents source signals. It is r by N matrix."
   ]
  },
  {
   "cell_type": "code",
   "execution_count": null,
   "id": "8da785fe",
   "metadata": {},
   "outputs": [],
   "source": [
    "X =raw[:][0]\n",
    "r = 32 # Number of sources\n",
    "M,N = X.shape"
   ]
  },
  {
   "cell_type": "code",
   "execution_count": null,
   "id": "1b2f8caf",
   "metadata": {},
   "outputs": [],
   "source": [
    "events, event_id = mne.events_from_annotations(raw)\n",
    "tmin = -0.01  # Start time before event\n",
    "tmax = 2.5 # End time after event\n",
    "epochs = mne.Epochs(raw, events, event_id=2, tmin=tmin, tmax=tmax, preload=True)\n",
    "avg_data = epochs.average().data;"
   ]
  },
  {
   "cell_type": "code",
   "execution_count": null,
   "id": "2d49bedd",
   "metadata": {},
   "outputs": [],
   "source": [
    "#PMF EXECUTION FOR ALL DATA\n",
    "\n",
    "W, Z = PMF(raw, avg_data, r = r, NumberofIterations = 3000, muv=10**(9.), epsv=1e-9, tuning=False,tmin = tmin, tmax = tmax)"
   ]
  },
  {
   "cell_type": "code",
   "execution_count": null,
   "id": "c2f18471",
   "metadata": {},
   "outputs": [],
   "source": [
    "#Calculate the RVs\n",
    "\n",
    "dip_pmf_rvs, dip_pmf_gofs = calculate_rvs(raw,W,M,N,r,tmin = tmin, tmax = tmax)\n"
   ]
  },
  {
   "cell_type": "code",
   "execution_count": null,
   "id": "0c691376",
   "metadata": {},
   "outputs": [],
   "source": [
    "#Threshold for the RVs to the purpose of plotting \n",
    "threshold = 0.15"
   ]
  },
  {
   "cell_type": "code",
   "execution_count": null,
   "id": "887929c7",
   "metadata": {},
   "outputs": [],
   "source": [
    "events, event_id = mne.events_from_annotations(raw)\n",
    "\n",
    "ch_names = []\n",
    "for i in range(r):\n",
    "    ch_names.append(f\"PMF {i}\")\n",
    "\n",
    "ch_types = [\"eeg\"] * r\n",
    "Z_info = mne.create_info(ch_names, ch_types=ch_types, sfreq=1024)\n",
    "Z_mne = mne.io.RawArray(Z, Z_info)\n",
    "\n",
    "# Square epochs\n",
    "square_epochs = mne.Epochs(Z_mne, events, event_id=2, tmin=tmin, tmax=tmax, preload=True) \n",
    "\n",
    "npArray_dip_pmf_rvs = np.array(dip_pmf_rvs)\n",
    "\n",
    "cmap = plt.get_cmap('tab20') \n",
    "\n",
    "\n",
    "indices_of_thresholded_sources = [i for i, x in enumerate(npArray_dip_pmf_rvs) if x < threshold]\n",
    "\n",
    "# For plotting purposes\n",
    "\n",
    "for i in indices_of_thresholded_sources:\n",
    "    plt.plot(Z[i], label=f'Source {i}')\n",
    "\n",
    "\n",
    "plt.legend()\n",
    "\n",
    "plt.show()"
   ]
  },
  {
   "cell_type": "markdown",
   "id": "8e09d053",
   "metadata": {},
   "source": [
    "# Thresholded Topomaps\n"
   ]
  },
  {
   "cell_type": "code",
   "execution_count": null,
   "id": "6a157f53",
   "metadata": {},
   "outputs": [],
   "source": [
    "#Plot\n",
    "pmf_plot(r, W, raw, dip_pmf_rvs,threshold)"
   ]
  }
 ],
 "metadata": {
  "kernelspec": {
   "display_name": "Python 3 (ipykernel)",
   "language": "python",
   "name": "python3"
  },
  "language_info": {
   "codemirror_mode": {
    "name": "ipython",
    "version": 3
   },
   "file_extension": ".py",
   "mimetype": "text/x-python",
   "name": "python",
   "nbconvert_exporter": "python",
   "pygments_lexer": "ipython3",
   "version": "3.11.2"
  }
 },
 "nbformat": 4,
 "nbformat_minor": 5
}
