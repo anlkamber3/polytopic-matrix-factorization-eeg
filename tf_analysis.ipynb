{
 "cells": [
  {
   "cell_type": "markdown",
   "id": "e19719c1",
   "metadata": {},
   "source": [
    "# Source Analysis in TF Domain\n",
    "\n"
   ]
  },
  {
   "cell_type": "code",
   "execution_count": null,
   "id": "abc7f110",
   "metadata": {},
   "outputs": [],
   "source": [
    "import numpy as np\n",
    "import mne\n",
    "mne.set_config('MNE_BROWSER_BACKEND', 'matplotlib')\n",
    "import matplotlib.pyplot as plt\n",
    "import warnings\n",
    "warnings.filterwarnings(\"ignore\")\n",
    "\n",
    "from pmf import *\n",
    "from utils import * "
   ]
  },
  {
   "cell_type": "markdown",
   "id": "f49af414",
   "metadata": {},
   "source": [
    "# EEG Import"
   ]
  },
  {
   "cell_type": "code",
   "execution_count": null,
   "id": "c256263b",
   "metadata": {},
   "outputs": [],
   "source": [
    "raw = mne.io.read_raw_eeglab(input_fname = \"data.set\")\n",
    "raw.info"
   ]
  },
  {
   "cell_type": "code",
   "execution_count": null,
   "id": "f69f1493",
   "metadata": {},
   "outputs": [],
   "source": [
    "raw.plot(n_channels=len(raw));"
   ]
  },
  {
   "cell_type": "markdown",
   "id": "f49af414",
   "metadata": {},
   "source": [
    "# X = WZ\n",
    "\n",
    "X is regarded as mixtures, which is an M by N matrix.\n",
    "\n",
    "W represents a linear mapping, which is full column rank M by r matrix. \n",
    "\n",
    "Z represents source signals. It is r by N matrix."
   ]
  },
  {
   "cell_type": "code",
   "execution_count": null,
   "id": "83dd2d4e",
   "metadata": {},
   "outputs": [],
   "source": [
    "raw_avg = raw.copy()\n",
    "raw_avg.load_data()\n",
    "raw_avg.set_eeg_reference()\n",
    "\n",
    "events, event_id = mne.events_from_annotations(raw_avg)\n",
    "tmin = -0.01  # Start time before event\n",
    "tmax = 2.5  # End time after event\n",
    "epochs = mne.Epochs(raw_avg, events, event_id=2, tmin=tmin, tmax=tmax, preload=True)\n",
    "X = epochs.average().data;"
   ]
  },
  {
   "cell_type": "code",
   "execution_count": null,
   "id": "8da785fe",
   "metadata": {},
   "outputs": [],
   "source": [
    "r = 32\n",
    "M,N = X.shape"
   ]
  },
  {
   "cell_type": "code",
   "execution_count": null,
   "id": "2d49bedd",
   "metadata": {},
   "outputs": [],
   "source": [
    "# PMF EXECUTION FOR ALL DATA\n",
    "\n",
    "W, Z = PMF(raw, X, r = r, NumberofIterations = 2801, muv=10**(9.), epsv=1e-9, tuning=False, tmin = tmin, tmax = tmax)"
   ]
  },
  {
   "cell_type": "code",
   "execution_count": null,
   "id": "c2f18471",
   "metadata": {},
   "outputs": [],
   "source": [
    "#Calculate the RVs\n",
    "\n",
    "dip_pmf_rvs, dip_pmf_gofs = calculate_rvs(raw,W,M,N,r,tmin = tmin, tmax = tmax)"
   ]
  },
  {
   "cell_type": "code",
   "execution_count": null,
   "id": "6a157f53",
   "metadata": {},
   "outputs": [],
   "source": [
    "#Plot\n",
    "pmf_plot(r, W, raw, dip_pmf_rvs, treshold=0.15)"
   ]
  },
  {
   "cell_type": "code",
   "execution_count": null,
   "id": "8bfb8542",
   "metadata": {},
   "outputs": [],
   "source": [
    "single_events = np.zeros([1,3],np.int64)\n",
    "single_events[0][2] = 1\n",
    "\n",
    "ch_names = []\n",
    "for i in range(r):\n",
    "    ch_names.append(f\"Source {i}\")\n",
    "\n",
    "ch_types = [\"eeg\"] * r\n",
    "Z_info = mne.create_info(ch_names, ch_types=ch_types, sfreq=1024)\n",
    "Z_mne = mne.io.RawArray(Z, Z_info)\n",
    "\n",
    "square_epochs = mne.Epochs(Z_mne, single_events, event_id=1, tmin=0, tmax=tmax-tmin, preload=True, baseline=None)\n",
    "\n",
    "square_epochs"
   ]
  },
  {
   "cell_type": "code",
   "execution_count": null,
   "id": "7df3dcae",
   "metadata": {},
   "outputs": [],
   "source": [
    "freqs = np.logspace(*np.log10([6, 35]), num=8)\n",
    "n_cycles = freqs / 2.0  # different number of cycle per frequency\n",
    "power, itc = mne.time_frequency.tfr_morlet(square_epochs,\n",
    "    freqs=freqs,\n",
    "    n_cycles=n_cycles,\n",
    "    average=True,\n",
    "    return_itc=True,\n",
    "    decim=3,\n",
    ")"
   ]
  },
  {
   "cell_type": "code",
   "execution_count": null,
   "id": "18329ec7",
   "metadata": {},
   "outputs": [],
   "source": [
    "power.plot(title=\"auto\")"
   ]
  }
 ],
 "metadata": {
  "kernelspec": {
   "display_name": "Python 3 (ipykernel)",
   "language": "python",
   "name": "python3"
  },
  "language_info": {
   "codemirror_mode": {
    "name": "ipython",
    "version": 3
   },
   "file_extension": ".py",
   "mimetype": "text/x-python",
   "name": "python",
   "nbconvert_exporter": "python",
   "pygments_lexer": "ipython3",
   "version": "3.11.2"
  }
 },
 "nbformat": 4,
 "nbformat_minor": 5
}
